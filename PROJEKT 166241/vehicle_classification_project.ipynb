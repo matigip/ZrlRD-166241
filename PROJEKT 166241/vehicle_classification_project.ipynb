{
 "cells": [
  {
   "cell_type": "markdown",
   "id": "1edcd477",
   "metadata": {},
   "source": [
    "## Klasyfikacja typów pojazdów\n",
    "## Projekt zaliczeniowy z przedmiotu Źródła i Reprezentacja Danych"
   ]
  },
  {
   "cell_type": "code",
   "execution_count": 17,
   "id": "57144e8b",
   "metadata": {},
   "outputs": [
    {
     "data": {
      "text/html": [
       "<div>\n",
       "<style scoped>\n",
       "    .dataframe tbody tr th:only-of-type {\n",
       "        vertical-align: middle;\n",
       "    }\n",
       "\n",
       "    .dataframe tbody tr th {\n",
       "        vertical-align: top;\n",
       "    }\n",
       "\n",
       "    .dataframe thead th {\n",
       "        text-align: right;\n",
       "    }\n",
       "</style>\n",
       "<table border=\"1\" class=\"dataframe\">\n",
       "  <thead>\n",
       "    <tr style=\"text-align: right;\">\n",
       "      <th></th>\n",
       "      <th>doors</th>\n",
       "      <th>power</th>\n",
       "      <th>weight</th>\n",
       "      <th>drive_type</th>\n",
       "      <th>vehicle_type</th>\n",
       "    </tr>\n",
       "  </thead>\n",
       "  <tbody>\n",
       "    <tr>\n",
       "      <th>0</th>\n",
       "      <td>4</td>\n",
       "      <td>132</td>\n",
       "      <td>2048</td>\n",
       "      <td>AWD</td>\n",
       "      <td>sedan</td>\n",
       "    </tr>\n",
       "    <tr>\n",
       "      <th>1</th>\n",
       "      <td>5</td>\n",
       "      <td>300</td>\n",
       "      <td>2615</td>\n",
       "      <td>FWD</td>\n",
       "      <td>SUV</td>\n",
       "    </tr>\n",
       "    <tr>\n",
       "      <th>2</th>\n",
       "      <td>2</td>\n",
       "      <td>310</td>\n",
       "      <td>1581</td>\n",
       "      <td>FWD</td>\n",
       "      <td>sedan</td>\n",
       "    </tr>\n",
       "    <tr>\n",
       "      <th>3</th>\n",
       "      <td>4</td>\n",
       "      <td>121</td>\n",
       "      <td>1737</td>\n",
       "      <td>RWD</td>\n",
       "      <td>van</td>\n",
       "    </tr>\n",
       "    <tr>\n",
       "      <th>4</th>\n",
       "      <td>4</td>\n",
       "      <td>165</td>\n",
       "      <td>1977</td>\n",
       "      <td>RWD</td>\n",
       "      <td>sedan</td>\n",
       "    </tr>\n",
       "  </tbody>\n",
       "</table>\n",
       "</div>"
      ],
      "text/plain": [
       "   doors  power  weight drive_type vehicle_type\n",
       "0      4    132    2048        AWD        sedan\n",
       "1      5    300    2615        FWD          SUV\n",
       "2      2    310    1581        FWD        sedan\n",
       "3      4    121    1737        RWD          van\n",
       "4      4    165    1977        RWD        sedan"
      ]
     },
     "execution_count": 17,
     "metadata": {},
     "output_type": "execute_result"
    }
   ],
   "source": [
    "import pandas as pd\n",
    "import numpy as np\n",
    "import matplotlib.pyplot as plt\n",
    "import seaborn as sns\n",
    "import pickle\n",
    "\n",
    "from sklearn.ensemble import RandomForestClassifier\n",
    "from sklearn.model_selection import train_test_split\n",
    "from sklearn.preprocessing import StandardScaler, OneHotEncoder\n",
    "from sklearn.compose import ColumnTransformer\n",
    "from sklearn.pipeline import Pipeline\n",
    "from sklearn.metrics import classification_report, confusion_matrix\n",
    "\n",
    "# Wczytanie danych\n",
    "df = pd.read_csv(\"vehicle_data_large.csv\")\n",
    "df.head()"
   ]
  },
  {
   "cell_type": "markdown",
   "id": "e5b3606e",
   "metadata": {},
   "source": [
    " ## Eksploracja danych"
   ]
  },
  {
   "cell_type": "code",
   "execution_count": 18,
   "id": "f67c083d",
   "metadata": {},
   "outputs": [
    {
     "name": "stdout",
     "output_type": "stream",
     "text": [
      "<class 'pandas.core.frame.DataFrame'>\n",
      "RangeIndex: 39 entries, 0 to 38\n",
      "Data columns (total 5 columns):\n",
      " #   Column        Non-Null Count  Dtype \n",
      "---  ------        --------------  ----- \n",
      " 0   doors         39 non-null     int64 \n",
      " 1   power         39 non-null     int64 \n",
      " 2   weight        39 non-null     int64 \n",
      " 3   drive_type    39 non-null     object\n",
      " 4   vehicle_type  39 non-null     object\n",
      "dtypes: int64(3), object(2)\n",
      "memory usage: 1.7+ KB\n",
      "None\n",
      "           doors       power       weight\n",
      "count  39.000000   39.000000    39.000000\n",
      "mean    3.589744  215.974359  1905.487179\n",
      "std     1.185836   76.134053   544.547029\n",
      "min     2.000000   82.000000   904.000000\n",
      "25%     2.500000  145.000000  1545.500000\n",
      "50%     4.000000  229.000000  1977.000000\n",
      "75%     5.000000  294.000000  2194.000000\n",
      "max     5.000000  328.000000  2874.000000\n",
      "vehicle_type\n",
      "van            10\n",
      "pickup          7\n",
      "sedan           6\n",
      "SUV             5\n",
      "hatchback       5\n",
      "convertible     3\n",
      "coupe           3\n",
      "Name: count, dtype: int64\n"
     ]
    }
   ],
   "source": [
    "print(df.info())\n",
    "print(df.describe())\n",
    "print(df['vehicle_type'].value_counts())"
   ]
  },
  {
   "cell_type": "markdown",
   "id": "3ebf4bdd",
   "metadata": {},
   "source": [
    "## Przygotowanie danych i trening modelu"
   ]
  },
  {
   "cell_type": "code",
   "execution_count": 19,
   "id": "4d62646c",
   "metadata": {},
   "outputs": [],
   "source": [
    "X = df.drop('vehicle_type', axis=1)\n",
    "y = df['vehicle_type']\n",
    "\n",
    "numeric_features = ['power', 'weight', 'doors']\n",
    "categorical_features = ['drive_type']\n",
    "\n",
    "preprocessor = ColumnTransformer([\n",
    "    ('num', StandardScaler(), numeric_features),\n",
    "    ('cat', OneHotEncoder(), categorical_features)\n",
    "])\n",
    "\n",
    "pipeline = Pipeline([\n",
    "    ('preprocessor', preprocessor),\n",
    "    ('classifier', RandomForestClassifier(random_state=42))\n",
    "])\n",
    "\n",
    "X_train, X_test, y_train, y_test = train_test_split(X, y, test_size=0.3, random_state=42)\n",
    "pipeline.fit(X_train, y_train)\n",
    "y_pred = pipeline.predict(X_test)"
   ]
  },
  {
   "cell_type": "markdown",
   "id": "01082744",
   "metadata": {},
   "source": [
    "## Ewaluacja modelu"
   ]
  },
  {
   "cell_type": "code",
   "execution_count": 20,
   "id": "b67c3c54",
   "metadata": {},
   "outputs": [
    {
     "name": "stdout",
     "output_type": "stream",
     "text": [
      "              precision    recall  f1-score   support\n",
      "\n",
      "         SUV       1.00      0.50      0.67         2\n",
      " convertible       0.00      0.00      0.00         1\n",
      "       coupe       0.00      0.00      0.00         1\n",
      "   hatchback       0.00      0.00      0.00         2\n",
      "      pickup       0.00      0.00      0.00         1\n",
      "       sedan       0.00      0.00      0.00         2\n",
      "         van       0.00      0.00      0.00         3\n",
      "\n",
      "    accuracy                           0.08        12\n",
      "   macro avg       0.14      0.07      0.10        12\n",
      "weighted avg       0.17      0.08      0.11        12\n",
      "\n"
     ]
    },
    {
     "data": {
      "image/png": "[encoded data removed]",
      "text/plain": [
       "<Figure size 1000x800 with 2 Axes>"
      ]
     },
     "metadata": {},
     "output_type": "display_data"
    }
   ],
   "source": [
    "print(classification_report(y_test, y_pred, zero_division=0))\n",
    "\n",
    "labels = np.unique(np.concatenate([y_test, y_pred]))\n",
    "conf_matrix = confusion_matrix(y_test, y_pred, labels=labels)\n",
    "\n",
    "plt.figure(figsize=(10, 8))\n",
    "sns.heatmap(conf_matrix, annot=True, fmt=\"d\", xticklabels=labels, yticklabels=labels, cmap=\"Blues\")\n",
    "plt.xlabel('Predicted')\n",
    "plt.ylabel('Actual')\n",
    "plt.title('Confusion Matrix')\n",
    "plt.tight_layout()\n",
    "plt.show()"
   ]
  },
  {
   "cell_type": "markdown",
   "id": "5737dd17",
   "metadata": {},
   "source": [
    "## Zapis i odczyt modelu z pliku"
   ]
  },
  {
   "cell_type": "code",
   "execution_count": 21,
   "id": "a6f4fad1",
   "metadata": {},
   "outputs": [
    {
     "name": "stdout",
     "output_type": "stream",
     "text": [
      "Predykcja typu pojazdu: van\n"
     ]
    }
   ],
   "source": [
    "# Zapis modelu\n",
    "with open(\"vehicle_classifier_modified.pkl\", \"wb\") as f:\n",
    "    pickle.dump(pipeline, f)\n",
    "\n",
    "# Wczytanie modelu\n",
    "with open(\"vehicle_classifier_modified.pkl\", \"rb\") as f:\n",
    "    model = pickle.load(f)\n",
    "\n",
    "# Przykład predykcji\n",
    "example = pd.DataFrame([{\n",
    "    'power': 180,\n",
    "    'weight': 1600,\n",
    "    'doors': 4,\n",
    "    'drive_type': 'FWD'\n",
    "}])\n",
    "print(\"Predykcja typu pojazdu:\", model.predict(example)[0])"
   ]
  }
 ],
 "metadata": {
  "kernelspec": {
   "display_name": "Python 3 (ipykernel)",
   "language": "python",
   "name": "python3"
  },
  "language_info": {
   "codemirror_mode": {
    "name": "ipython",
    "version": 3
   },
   "file_extension": ".py",
   "mimetype": "text/x-python",
   "name": "python",
   "nbconvert_exporter": "python",
   "pygments_lexer": "ipython3",
   "version": "3.12.7"
  }
 },
 "nbformat": 4,
 "nbformat_minor": 5
}
